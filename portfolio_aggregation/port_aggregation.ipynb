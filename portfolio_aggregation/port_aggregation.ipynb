{
 "cells": [
  {
   "cell_type": "code",
   "execution_count": 1,
   "outputs": [],
   "source": [
    "#   this Notebook is example of Portfolio aggregation using : \n",
    "##  user defined function \n",
    "##  using Tree  as classifier, that \n",
    "##  represents hierarchical structure of stock sector "
   ],
   "metadata": {
    "collapsed": false,
    "pycharm": {
     "name": "#%%  \n",
     "is_executing": false
    }
   }
  },
  {
   "cell_type": "code",
   "execution_count": 2,
   "metadata": {
    "collapsed": true,
    "pycharm": {
     "is_executing": false
    }
   },
   "outputs": [],
   "source": [
    "import pandas as pd\n",
    "import numpy as np\n",
    "import matplotlib.pyplot as plt\n",
    "import seaborn as sns\n",
    "import json\n",
    "import Columns as CL\n",
    "from mtree import MTree\n",
    "from aggr_func import vw_aggr\n",
    "\n",
    "plt.style.use('seaborn')\n",
    "sns.set()"
   ]
  },
  {
   "cell_type": "code",
   "execution_count": 3,
   "outputs": [],
   "source": [
    "##   Read SP  500 portfolio "
   ],
   "metadata": {
    "collapsed": false,
    "pycharm": {
     "name": "#%% md \n",
     "is_executing": false
    }
   }
  },
  {
   "cell_type": "code",
   "execution_count": 4,
   "outputs": [
    {
     "data": {
      "text/plain": "                       Name                  Sector   Price  Price/Earnings  \\\nSymbol                                                                        \nMMM              3M Company             Industrials  222.89           24.31   \nAOS         A.O. Smith Corp             Industrials   60.24           27.76   \nABT     Abbott Laboratories             Health Care   56.27           22.51   \nABBV            AbbVie Inc.             Health Care  108.48           19.41   \nACN           Accenture plc  Information Technology  150.51           25.47   \n\n        Dividend Yield  Earnings/Share  52 Week Low  52 Week High  \\\nSymbol                                                              \nMMM           2.332862            7.92       259.77       175.490   \nAOS           1.147959            1.70        68.39        48.925   \nABT           1.908982            0.26        64.60        42.280   \nABBV          2.499560            3.29       125.86        60.050   \nACN           1.714470            5.44       162.60       114.820   \n\n          Market Cap        EBITDA  Price/Sales  Price/Book  \\\nSymbol                                                        \nMMM     138721055226  9.048000e+09     4.390271       11.34   \nAOS      10783419933  6.010000e+08     3.575483        6.35   \nABT     102121042306  5.744000e+09     3.740480        3.19   \nABBV    181386347059  1.031000e+10     6.291571       26.14   \nACN      98765855553  5.643228e+09     2.604117       10.62   \n\n                                              SEC Filings    Weight  \nSymbol                                                               \nMMM     http://www.sec.gov/cgi-bin/browse-edgar?action...  0.005579  \nAOS     http://www.sec.gov/cgi-bin/browse-edgar?action...  0.000434  \nABT     http://www.sec.gov/cgi-bin/browse-edgar?action...  0.004107  \nABBV    http://www.sec.gov/cgi-bin/browse-edgar?action...  0.007295  \nACN     http://www.sec.gov/cgi-bin/browse-edgar?action...  0.003972  ",
      "text/html": "<div>\n<style scoped>\n    .dataframe tbody tr th:only-of-type {\n        vertical-align: middle;\n    }\n\n    .dataframe tbody tr th {\n        vertical-align: top;\n    }\n\n    .dataframe thead th {\n        text-align: right;\n    }\n</style>\n<table border=\"1\" class=\"dataframe\">\n  <thead>\n    <tr style=\"text-align: right;\">\n      <th></th>\n      <th>Name</th>\n      <th>Sector</th>\n      <th>Price</th>\n      <th>Price/Earnings</th>\n      <th>Dividend Yield</th>\n      <th>Earnings/Share</th>\n      <th>52 Week Low</th>\n      <th>52 Week High</th>\n      <th>Market Cap</th>\n      <th>EBITDA</th>\n      <th>Price/Sales</th>\n      <th>Price/Book</th>\n      <th>SEC Filings</th>\n      <th>Weight</th>\n    </tr>\n    <tr>\n      <th>Symbol</th>\n      <th></th>\n      <th></th>\n      <th></th>\n      <th></th>\n      <th></th>\n      <th></th>\n      <th></th>\n      <th></th>\n      <th></th>\n      <th></th>\n      <th></th>\n      <th></th>\n      <th></th>\n      <th></th>\n    </tr>\n  </thead>\n  <tbody>\n    <tr>\n      <th>MMM</th>\n      <td>3M Company</td>\n      <td>Industrials</td>\n      <td>222.89</td>\n      <td>24.31</td>\n      <td>2.332862</td>\n      <td>7.92</td>\n      <td>259.77</td>\n      <td>175.490</td>\n      <td>138721055226</td>\n      <td>9.048000e+09</td>\n      <td>4.390271</td>\n      <td>11.34</td>\n      <td>http://www.sec.gov/cgi-bin/browse-edgar?action...</td>\n      <td>0.005579</td>\n    </tr>\n    <tr>\n      <th>AOS</th>\n      <td>A.O. Smith Corp</td>\n      <td>Industrials</td>\n      <td>60.24</td>\n      <td>27.76</td>\n      <td>1.147959</td>\n      <td>1.70</td>\n      <td>68.39</td>\n      <td>48.925</td>\n      <td>10783419933</td>\n      <td>6.010000e+08</td>\n      <td>3.575483</td>\n      <td>6.35</td>\n      <td>http://www.sec.gov/cgi-bin/browse-edgar?action...</td>\n      <td>0.000434</td>\n    </tr>\n    <tr>\n      <th>ABT</th>\n      <td>Abbott Laboratories</td>\n      <td>Health Care</td>\n      <td>56.27</td>\n      <td>22.51</td>\n      <td>1.908982</td>\n      <td>0.26</td>\n      <td>64.60</td>\n      <td>42.280</td>\n      <td>102121042306</td>\n      <td>5.744000e+09</td>\n      <td>3.740480</td>\n      <td>3.19</td>\n      <td>http://www.sec.gov/cgi-bin/browse-edgar?action...</td>\n      <td>0.004107</td>\n    </tr>\n    <tr>\n      <th>ABBV</th>\n      <td>AbbVie Inc.</td>\n      <td>Health Care</td>\n      <td>108.48</td>\n      <td>19.41</td>\n      <td>2.499560</td>\n      <td>3.29</td>\n      <td>125.86</td>\n      <td>60.050</td>\n      <td>181386347059</td>\n      <td>1.031000e+10</td>\n      <td>6.291571</td>\n      <td>26.14</td>\n      <td>http://www.sec.gov/cgi-bin/browse-edgar?action...</td>\n      <td>0.007295</td>\n    </tr>\n    <tr>\n      <th>ACN</th>\n      <td>Accenture plc</td>\n      <td>Information Technology</td>\n      <td>150.51</td>\n      <td>25.47</td>\n      <td>1.714470</td>\n      <td>5.44</td>\n      <td>162.60</td>\n      <td>114.820</td>\n      <td>98765855553</td>\n      <td>5.643228e+09</td>\n      <td>2.604117</td>\n      <td>10.62</td>\n      <td>http://www.sec.gov/cgi-bin/browse-edgar?action...</td>\n      <td>0.003972</td>\n    </tr>\n  </tbody>\n</table>\n</div>"
     },
     "metadata": {},
     "output_type": "execute_result",
     "execution_count": 4
    }
   ],
   "source": [
    "port = pd.read_csv('./data/constituents-financials.csv', index_col=0)\n",
    "# calculate weigth of market value of stock in index \n",
    "port[CL.WEIGHT] = port[CL.MARKET_CAP] / port[CL.MARKET_CAP].sum()\n",
    "weight_sector = port.groupby(CL.SECTOR)[CL.WEIGHT].sum()\n",
    "port.head()"
   ],
   "metadata": {
    "collapsed": false,
    "pycharm": {
     "name": "#%% \n",
     "is_executing": false
    }
   }
  },
  {
   "cell_type": "markdown",
   "source": [],
   "metadata": {
    "collapsed": false,
    "pycharm": {
     "name": "#%% md\n"
    }
   }
  },
  {
   "cell_type": "code",
   "execution_count": 5,
   "outputs": [
    {
     "name": "stdout",
     "text": [
      "weight_sectors\nSector\nConsumer Discretionary        0.129236\nConsumer Staples              0.083933\nEnergy                        0.054585\nFinancials                    0.138449\nHealth Care                   0.130474\nIndustrials                   0.096982\nInformation Technology        0.270536\nMaterials                     0.027841\nReal Estate                   0.025148\nTelecommunication Services    0.018219\nUtilities                     0.024597\nName: Weight, dtype: float64\nweight_total 0.9999999999999999 \n"
     ],
     "output_type": "stream"
    }
   ],
   "source": [
    "weight_total = weight_sector.sum()\n",
    "print('weight_sectors')\n",
    "print(weight_sector)\n",
    "weight_sector\n",
    "print('weight_total {} '.format( weight_total))"
   ],
   "metadata": {
    "collapsed": false,
    "pycharm": {
     "name": "#%% \n",
     "is_executing": false
    }
   }
  },
  {
   "cell_type": "markdown",
   "source": [],
   "metadata": {
    "collapsed": false
   }
  },
  {
   "cell_type": "code",
   "execution_count": 6,
   "outputs": [
    {
     "data": {
      "text/plain": "<matplotlib.legend.Legend at 0x200f0ba1278>"
     },
     "metadata": {},
     "output_type": "execute_result",
     "execution_count": 6
    },
    {
     "data": {
      "text/plain": "<Figure size 432x288 with 1 Axes>",
      "image/png": "[encoded data removed]"
     },
     "metadata": {
      "needs_background": "light"
     },
     "output_type": "display_data"
    },
    {
     "data": {
      "text/plain": "<Figure size 432x288 with 1 Axes>",
      "image/png": "[encoded data removed]"
     },
     "metadata": {
      "needs_background": "light"
     },
     "output_type": "display_data"
    },
    {
     "data": {
      "text/plain": "<Figure size 432x288 with 1 Axes>",
      "image/png": "[encoded data removed]"
     },
     "metadata": {
      "needs_background": "light"
     },
     "output_type": "display_data"
    }
   ],
   "source": [
    "SP = 'S&P  Price/Ear Histogram with market values as weights'\n",
    "port_cl = port.dropna(subset=[CL.PRICE_EARN])\n",
    "plt.figure()\n",
    "plt.title(SP)\n",
    "plt.his\n",
    "kwargs = dit(port_cl[CL.PRICE_EARN], 100, weights=port_cl[CL.WEIGHT])\n",
    "ct(alpha=0.5, bins=40)\n",
    "# select Financials stocks\n",
    "col = 'Financials'\n",
    "pe_ratio = port.loc[port['Sector'] == col, [CL.WEIGHT, CL.PRICE_EARN]]  \n",
    "# show histogram with weights based on Market Values\n",
    "plt.figure()\n",
    "plt.hist(pe_ratio[CL.PRICE_EARN],  **kwargs, color='g', label=col, weights=pe_ratio[CL.WEIGHT])\n",
    "plt.legend()\n",
    "\n",
    "# select Information Technology stocks\n",
    "col = 'Information Technology'\n",
    "pe_ratio = port.loc[port['Sector'] == col, [CL.WEIGHT, CL.PRICE_EARN]]\n",
    "plt.figure()\n",
    "# show histogram with weights based on Market Values\n",
    "plt.hist(pe_ratio[CL.PRICE_EARN],  **kwargs, color='r', label=col, weights=pe_ratio[CL.WEIGHT])\n",
    "plt.legend()"
   ],
   "metadata": {
    "collapsed": false,
    "pycharm": {
     "name": "#%%\n",
     "is_executing": false
    }
   }
  },
  {
   "cell_type": "markdown",
   "source": [
    "###  Using custom aggregation function for portfolio"
   ],
   "metadata": {
    "collapsed": false,
    "pycharm": {
     "name": "#%% md\n"
    }
   }
  },
  {
   "cell_type": "code",
   "execution_count": 7,
   "outputs": [],
   "source": [
    "def aggregate_port(group: pd.DataFrame, group_cols) -> pd.DataFrame:  \n",
    "    \"\"\"  \n",
    "    :param group: GroupByDataFrame\n",
    "    :param group_cols: columns that are used in splitting rows\n",
    "    :return: DataFrame is result of aggregation\n",
    "    \"\"\"\n",
    "    # dct dictionary represents columns and aggregation values \n",
    "    dct = {\n",
    "        '%' + CL.WEIGHT:  group[CL.WEIGHT].sum() * 100, \n",
    "        CL.WEIGHT: group[CL.WEIGHT].sum(),\n",
    "       'COUNT': group[CL.NAME].count(),\n",
    "        CL.PRICE: vw_aggr(group, CL.PRICE),\n",
    "        CL.PRICE_EARN: vw_aggr(group, CL.PRICE_EARN),\n",
    "        CL.PRICE_SALES: vw_aggr(group, CL.PRICE_SALES),\n",
    "        CL.PRICE_BOOK: vw_aggr(group, CL.PRICE_BOOK),\n",
    "        CL.DIV_YIELD: vw_aggr(group, CL.DIV_YIELD),\n",
    "        CL.EBITDA: vw_aggr(group, CL.EBITDA)\n",
    "        }\n",
    "    \n",
    "    # add columns for keys used in aggregation\n",
    "    for cl in group_cols:\n",
    "        dct[cl] = group.iloc[0][cl]\n",
    "    return pd.DataFrame([dct])\n",
    "\n",
    "\n",
    "df_aggr = port.groupby(CL.SECTOR).apply(lambda x: aggregate_port(x, ['Sector']))"
   ],
   "metadata": {
    "collapsed": false,
    "pycharm": {
     "name": "#%% \n",
     "is_executing": false
    }
   }
  },
  {
   "cell_type": "markdown",
   "source": [
    "### Build classifier for hierarchical tree aggregation\n",
    "###  Tree represents hierarchical structure of stock sector "
   ],
   "metadata": {
    "collapsed": false,
    "pycharm": {
     "name": "#%% md\n"
    }
   }
  },
  {
   "cell_type": "code",
   "execution_count": 8,
   "outputs": [
    {
     "name": "stdout",
     "text": [
      "===================\n<class 'pandas.core.frame.DataFrame'>\nRangeIndex: 11 entries, 0 to 10\nData columns (total 3 columns):\nSector      11 non-null object\nSector-0    11 non-null object\nSector-1    8 non-null object\ndtypes: object(3)\nmemory usage: 344.0+ bytes\nNone\nClassifier\n"
     ],
     "output_type": "stream"
    },
    {
     "data": {
      "text/plain": "                        Sector             Sector-0  \\\n0             Consumer Staples             Consumer   \n1       Consumer Discretionary             Consumer   \n2                  Industrials   Industry/Materials   \n3                    Materials   Industry/Materials   \n4       Information Technology  Info Tech. Telecom.   \n5   Telecommunication Services  Info Tech. Telecom.   \n6                       Energy      Energy Uilities   \n7                    Utilities      Energy Uilities   \n8                   Financials           Financials   \n9                  Health Care          Health Care   \n10                 Real Estate          Real Estate   \n\n                      Sector-1  \n0             Consumer Staples  \n1       Consumer Discretionary  \n2                  Industrials  \n3                    Materials  \n4       Information Technology  \n5   Telecommunication Services  \n6                       Energy  \n7                    Utilities  \n8                   Financials  \n9                  Health Care  \n10                 Real Estate  ",
      "text/html": "<div>\n<style scoped>\n    .dataframe tbody tr th:only-of-type {\n        vertical-align: middle;\n    }\n\n    .dataframe tbody tr th {\n        vertical-align: top;\n    }\n\n    .dataframe thead th {\n        text-align: right;\n    }\n</style>\n<table border=\"1\" class=\"dataframe\">\n  <thead>\n    <tr style=\"text-align: right;\">\n      <th></th>\n      <th>Sector</th>\n      <th>Sector-0</th>\n      <th>Sector-1</th>\n    </tr>\n  </thead>\n  <tbody>\n    <tr>\n      <th>0</th>\n      <td>Consumer Staples</td>\n      <td>Consumer</td>\n      <td>Consumer Staples</td>\n    </tr>\n    <tr>\n      <th>1</th>\n      <td>Consumer Discretionary</td>\n      <td>Consumer</td>\n      <td>Consumer Discretionary</td>\n    </tr>\n    <tr>\n      <th>2</th>\n      <td>Industrials</td>\n      <td>Industry/Materials</td>\n      <td>Industrials</td>\n    </tr>\n    <tr>\n      <th>3</th>\n      <td>Materials</td>\n      <td>Industry/Materials</td>\n      <td>Materials</td>\n    </tr>\n    <tr>\n      <th>4</th>\n      <td>Information Technology</td>\n      <td>Info Tech. Telecom.</td>\n      <td>Information Technology</td>\n    </tr>\n    <tr>\n      <th>5</th>\n      <td>Telecommunication Services</td>\n      <td>Info Tech. Telecom.</td>\n      <td>Telecommunication Services</td>\n    </tr>\n    <tr>\n      <th>6</th>\n      <td>Energy</td>\n      <td>Energy Uilities</td>\n      <td>Energy</td>\n    </tr>\n    <tr>\n      <th>7</th>\n      <td>Utilities</td>\n      <td>Energy Uilities</td>\n      <td>Utilities</td>\n    </tr>\n    <tr>\n      <th>8</th>\n      <td>Financials</td>\n      <td>Financials</td>\n      <td>Financials</td>\n    </tr>\n    <tr>\n      <th>9</th>\n      <td>Health Care</td>\n      <td>Health Care</td>\n      <td>Health Care</td>\n    </tr>\n    <tr>\n      <th>10</th>\n      <td>Real Estate</td>\n      <td>Real Estate</td>\n      <td>Real Estate</td>\n    </tr>\n  </tbody>\n</table>\n</div>"
     },
     "metadata": {},
     "output_type": "execute_result",
     "execution_count": 8
    }
   ],
   "source": [
    "## load json to dictionary tree\n",
    "with open('./data/SectorTree.json') as json_file:\n",
    "    tree = json.load(json_file)\n",
    "# load json data to MTree, which is hierarchical representation of Sectors\n",
    "m_tree = MTree()\n",
    "for node in tree:\n",
    "    m_tree.add_node(node)\n",
    "\n",
    "# returns list of all terminal nodes id \n",
    "term_nodes = m_tree.get_term_nodes()\n",
    "aggr_key = 'Sector'\n",
    "classifier_rows = []\n",
    "for key in term_nodes:\n",
    "    # for each of terminal node id returns list of nodes id from term node to its top parent\n",
    "    #  { ENE :  [ENE_IND_MAT], IND : [ENE_IND_MAT], MAT: [ENE_IND_MAT]....\n",
    "    path = m_tree.get_node_path(key)\n",
    "    name = m_tree.get_node(key).get_name()\n",
    "    # Convert list ['ENE',''ENE_IND_MAT']  to dict {'SECTOR-0': 'ENE_IND_MAT', 'SECTOR-1': 'ENE} \n",
    "    row = m_tree.node2row(aggr_key, path)\n",
    "    row[aggr_key] = name\n",
    "    classifier_rows.append(row)\n",
    "# classifier is DataFrame representation of the  Sector tree \n",
    "df_classifier = pd.DataFrame.from_records(classifier_rows)  \n",
    "print('===================')\n",
    "print(df_classifier.info())\n",
    "# fill columns with null values from previous column Sector-1 from Sector-0 \n",
    "df_classifier.loc[df_classifier[aggr_key + '-1'].isnull(), aggr_key + '-1'] = df_classifier[aggr_key + '-0']\n",
    "print ('Classifier')\n",
    "df_classifier"
   ],
   "metadata": {
    "collapsed": false,
    "pycharm": {
     "name": "#%% \n",
     "is_executing": false
    }
   }
  },
  {
   "cell_type": "code",
   "source": [
    "## Sector classifier"
   ],
   "metadata": {
    "collapsed": false,
    "pycharm": {
     "name": "#%% md \n",
     "is_executing": false
    }
   },
   "execution_count": 9,
   "outputs": []
  },
  {
   "cell_type": "code",
   "execution_count": 10,
   "outputs": [],
   "source": [
    "df_merge = pd.merge(port, df_classifier, left_on='Sector', right_on='Sector')\n",
    "\n",
    "aggr_keys = ['Sector-0', 'Sector-1']\n",
    "aggr_key = aggr_keys\n",
    "df_report = df_merge.groupby(aggr_key, as_index=False).apply(lambda x: aggregate_port(x, aggr_key))\n",
    "aggr_key = ['Sector-0']\n",
    "sub_total_col = 'Sector-1'\n",
    "df_report_0 = df_merge.groupby(aggr_key, as_index=False).apply(lambda x: aggregate_port(x, aggr_key))\n",
    "#row header for total values for Sector 0\n",
    "df_report_0[sub_total_col] = 'SubTotal-'\n",
    "df_report = pd.concat([df_report, df_report_0], sort=False)\n",
    "df_report.reset_index()\n",
    "df_report.set_index(aggr_keys, inplace=True)\n",
    "df_report.sort_index(inplace=True)"
   ],
   "metadata": {
    "collapsed": false,
    "pycharm": {
     "name": "#%%  Use classifier to aggregate \n",
     "is_executing": false
    }
   }
  },
  {
   "cell_type": "markdown",
   "source": [
    "## Sector based Aggregation Report"
   ],
   "metadata": {
    "collapsed": false
   }
  },
  {
   "cell_type": "code",
   "execution_count": 11,
   "outputs": [
    {
     "data": {
      "text/plain": "                                                  %Weight  COUNT  \\\nSector-0            Sector-1                                       \nConsumer            Consumer Discretionary      12.923565     84   \n                    Consumer Staples             8.393322     34   \n                    SubTotal-                   21.316887    118   \nEnergy Uilities     Energy                       5.458531     32   \n                    SubTotal-                    7.918254     60   \n                    Utilities                    2.459723     28   \nFinancials          Financials                  13.844853     68   \n                    SubTotal-                   13.844853     68   \nHealth Care         Health Care                 13.047414     61   \n                    SubTotal-                   13.047414     61   \nIndustry/Materials  Industrials                  9.698180     67   \n                    Materials                    2.784133     25   \n                    SubTotal-                   12.482313     92   \nInfo Tech. Telecom. Information Technology      27.053586     70   \n                    SubTotal-                   28.875528     73   \n                    Telecommunication Services   1.821943      3   \nReal Estate         Real Estate                  2.514750     33   \n                    SubTotal-                    2.514750     33   \n\n                                                Dividend Yield        EBITDA  \\\nSector-0            Sector-1                                                   \nConsumer            Consumer Discretionary            0.167894  1.304255e+09   \n                    Consumer Staples                  0.227329  9.689217e+08   \n                    SubTotal-                         0.395223  2.273176e+09   \nEnergy Uilities     Energy                            0.160271  8.775385e+08   \n                    SubTotal-                         0.253111  1.001818e+09   \n                    Utilities                         0.092840  1.242790e+08   \nFinancials          Financials                        0.255285  5.591629e+07   \n                    SubTotal-                         0.255285  5.591629e+07   \nHealth Care         Health Care                       0.218171  1.152541e+09   \n                    SubTotal-                         0.218171  1.152541e+09   \nIndustry/Materials  Industrials                       0.180174  5.414636e+08   \n                    Materials                         0.053197  9.570637e+07   \n                    SubTotal-                         0.233372  6.371700e+08   \nInfo Tech. Telecom. Information Technology            0.290492  7.212259e+09   \n                    SubTotal-                         0.387873  8.051878e+09   \n                    Telecommunication Services        0.097380  8.396186e+08   \nReal Estate         Real Estate                       0.091772  4.834317e+07   \n                    SubTotal-                         0.091772  4.834317e+07   \n\n                                                    Price  Price/Book  \\\nSector-0            Sector-1                                            \nConsumer            Consumer Discretionary      54.156961    3.836130   \n                    Consumer Staples             7.171608    9.372723   \n                    SubTotal-                   61.328569   13.208853   \nEnergy Uilities     Energy                       4.094839    0.119050   \n                    SubTotal-                    5.743121    0.169331   \n                    Utilities                    1.648282    0.050281   \nFinancials          Financials                  14.172920    0.476060   \n                    SubTotal-                   14.172920    0.476060   \nHealth Care         Health Care                 16.977773    0.913137   \n                    SubTotal-                   16.977773    0.913137   \nIndustry/Materials  Industrials                 14.918725    2.345510   \n                    Materials                    3.013745    0.126498   \n                    SubTotal-                   17.932470    2.472007   \nInfo Tech. Telecom. Information Technology      83.885048    2.290685   \n                    SubTotal-                   84.631631    2.374730   \n                    Telecommunication Services   0.746583    0.084045   \nReal Estate         Real Estate                  2.775602    0.179639   \n                    SubTotal-                    2.775602    0.179639   \n\n                                                Price/Earnings  Price/Sales  \\\nSector-0            Sector-1                                                  \nConsumer            Consumer Discretionary           10.836502     0.398018   \n                    Consumer Staples                  1.838802     0.259808   \n                    SubTotal-                        12.675304     0.657827   \nEnergy Uilities     Energy                            2.724553     0.158342   \n                    SubTotal-                         3.153285     0.228026   \n                    Utilities                         0.428732     0.069685   \nFinancials          Financials                        2.434340     0.464969   \n                    SubTotal-                         2.434340     0.464969   \nHealth Care         Health Care                       2.776961     0.614118   \n                    SubTotal-                         2.776961     0.614118   \nIndustry/Materials  Industrials                       2.094851     0.248950   \n                    Materials                         0.767678     0.078789   \n                    SubTotal-                         2.862528     0.327739   \nInfo Tech. Telecom. Information Technology            9.924069     1.962323   \n                    SubTotal-                        10.150339     1.990017   \n                    Telecommunication Services        0.226271     0.027694   \nReal Estate         Real Estate                       0.595788     0.260547   \n                    SubTotal-                         0.595788     0.260547   \n\n                                                  Weight  \nSector-0            Sector-1                              \nConsumer            Consumer Discretionary      0.129236  \n                    Consumer Staples            0.083933  \n                    SubTotal-                   0.213169  \nEnergy Uilities     Energy                      0.054585  \n                    SubTotal-                   0.079183  \n                    Utilities                   0.024597  \nFinancials          Financials                  0.138449  \n                    SubTotal-                   0.138449  \nHealth Care         Health Care                 0.130474  \n                    SubTotal-                   0.130474  \nIndustry/Materials  Industrials                 0.096982  \n                    Materials                   0.027841  \n                    SubTotal-                   0.124823  \nInfo Tech. Telecom. Information Technology      0.270536  \n                    SubTotal-                   0.288755  \n                    Telecommunication Services  0.018219  \nReal Estate         Real Estate                 0.025148  \n                    SubTotal-                   0.025148  ",
      "text/html": "<div>\n<style scoped>\n    .dataframe tbody tr th:only-of-type {\n        vertical-align: middle;\n    }\n\n    .dataframe tbody tr th {\n        vertical-align: top;\n    }\n\n    .dataframe thead th {\n        text-align: right;\n    }\n</style>\n<table border=\"1\" class=\"dataframe\">\n  <thead>\n    <tr style=\"text-align: right;\">\n      <th></th>\n      <th></th>\n      <th>%Weight</th>\n      <th>COUNT</th>\n      <th>Dividend Yield</th>\n      <th>EBITDA</th>\n      <th>Price</th>\n      <th>Price/Book</th>\n      <th>Price/Earnings</th>\n      <th>Price/Sales</th>\n      <th>Weight</th>\n    </tr>\n    <tr>\n      <th>Sector-0</th>\n      <th>Sector-1</th>\n      <th></th>\n      <th></th>\n      <th></th>\n      <th></th>\n      <th></th>\n      <th></th>\n      <th></th>\n      <th></th>\n      <th></th>\n    </tr>\n  </thead>\n  <tbody>\n    <tr>\n      <th rowspan=\"3\" valign=\"top\">Consumer</th>\n      <th>Consumer Discretionary</th>\n      <td>12.923565</td>\n      <td>84</td>\n      <td>0.167894</td>\n      <td>1.304255e+09</td>\n      <td>54.156961</td>\n      <td>3.836130</td>\n      <td>10.836502</td>\n      <td>0.398018</td>\n      <td>0.129236</td>\n    </tr>\n    <tr>\n      <th>Consumer Staples</th>\n      <td>8.393322</td>\n      <td>34</td>\n      <td>0.227329</td>\n      <td>9.689217e+08</td>\n      <td>7.171608</td>\n      <td>9.372723</td>\n      <td>1.838802</td>\n      <td>0.259808</td>\n      <td>0.083933</td>\n    </tr>\n    <tr>\n      <th>SubTotal-</th>\n      <td>21.316887</td>\n      <td>118</td>\n      <td>0.395223</td>\n      <td>2.273176e+09</td>\n      <td>61.328569</td>\n      <td>13.208853</td>\n      <td>12.675304</td>\n      <td>0.657827</td>\n      <td>0.213169</td>\n    </tr>\n    <tr>\n      <th rowspan=\"3\" valign=\"top\">Energy Uilities</th>\n      <th>Energy</th>\n      <td>5.458531</td>\n      <td>32</td>\n      <td>0.160271</td>\n      <td>8.775385e+08</td>\n      <td>4.094839</td>\n      <td>0.119050</td>\n      <td>2.724553</td>\n      <td>0.158342</td>\n      <td>0.054585</td>\n    </tr>\n    <tr>\n      <th>SubTotal-</th>\n      <td>7.918254</td>\n      <td>60</td>\n      <td>0.253111</td>\n      <td>1.001818e+09</td>\n      <td>5.743121</td>\n      <td>0.169331</td>\n      <td>3.153285</td>\n      <td>0.228026</td>\n      <td>0.079183</td>\n    </tr>\n    <tr>\n      <th>Utilities</th>\n      <td>2.459723</td>\n      <td>28</td>\n      <td>0.092840</td>\n      <td>1.242790e+08</td>\n      <td>1.648282</td>\n      <td>0.050281</td>\n      <td>0.428732</td>\n      <td>0.069685</td>\n      <td>0.024597</td>\n    </tr>\n    <tr>\n      <th rowspan=\"2\" valign=\"top\">Financials</th>\n      <th>Financials</th>\n      <td>13.844853</td>\n      <td>68</td>\n      <td>0.255285</td>\n      <td>5.591629e+07</td>\n      <td>14.172920</td>\n      <td>0.476060</td>\n      <td>2.434340</td>\n      <td>0.464969</td>\n      <td>0.138449</td>\n    </tr>\n    <tr>\n      <th>SubTotal-</th>\n      <td>13.844853</td>\n      <td>68</td>\n      <td>0.255285</td>\n      <td>5.591629e+07</td>\n      <td>14.172920</td>\n      <td>0.476060</td>\n      <td>2.434340</td>\n      <td>0.464969</td>\n      <td>0.138449</td>\n    </tr>\n    <tr>\n      <th rowspan=\"2\" valign=\"top\">Health Care</th>\n      <th>Health Care</th>\n      <td>13.047414</td>\n      <td>61</td>\n      <td>0.218171</td>\n      <td>1.152541e+09</td>\n      <td>16.977773</td>\n      <td>0.913137</td>\n      <td>2.776961</td>\n      <td>0.614118</td>\n      <td>0.130474</td>\n    </tr>\n    <tr>\n      <th>SubTotal-</th>\n      <td>13.047414</td>\n      <td>61</td>\n      <td>0.218171</td>\n      <td>1.152541e+09</td>\n      <td>16.977773</td>\n      <td>0.913137</td>\n      <td>2.776961</td>\n      <td>0.614118</td>\n      <td>0.130474</td>\n    </tr>\n    <tr>\n      <th rowspan=\"3\" valign=\"top\">Industry/Materials</th>\n      <th>Industrials</th>\n      <td>9.698180</td>\n      <td>67</td>\n      <td>0.180174</td>\n      <td>5.414636e+08</td>\n      <td>14.918725</td>\n      <td>2.345510</td>\n      <td>2.094851</td>\n      <td>0.248950</td>\n      <td>0.096982</td>\n    </tr>\n    <tr>\n      <th>Materials</th>\n      <td>2.784133</td>\n      <td>25</td>\n      <td>0.053197</td>\n      <td>9.570637e+07</td>\n      <td>3.013745</td>\n      <td>0.126498</td>\n      <td>0.767678</td>\n      <td>0.078789</td>\n      <td>0.027841</td>\n    </tr>\n    <tr>\n      <th>SubTotal-</th>\n      <td>12.482313</td>\n      <td>92</td>\n      <td>0.233372</td>\n      <td>6.371700e+08</td>\n      <td>17.932470</td>\n      <td>2.472007</td>\n      <td>2.862528</td>\n      <td>0.327739</td>\n      <td>0.124823</td>\n    </tr>\n    <tr>\n      <th rowspan=\"3\" valign=\"top\">Info Tech. Telecom.</th>\n      <th>Information Technology</th>\n      <td>27.053586</td>\n      <td>70</td>\n      <td>0.290492</td>\n      <td>7.212259e+09</td>\n      <td>83.885048</td>\n      <td>2.290685</td>\n      <td>9.924069</td>\n      <td>1.962323</td>\n      <td>0.270536</td>\n    </tr>\n    <tr>\n      <th>SubTotal-</th>\n      <td>28.875528</td>\n      <td>73</td>\n      <td>0.387873</td>\n      <td>8.051878e+09</td>\n      <td>84.631631</td>\n      <td>2.374730</td>\n      <td>10.150339</td>\n      <td>1.990017</td>\n      <td>0.288755</td>\n    </tr>\n    <tr>\n      <th>Telecommunication Services</th>\n      <td>1.821943</td>\n      <td>3</td>\n      <td>0.097380</td>\n      <td>8.396186e+08</td>\n      <td>0.746583</td>\n      <td>0.084045</td>\n      <td>0.226271</td>\n      <td>0.027694</td>\n      <td>0.018219</td>\n    </tr>\n    <tr>\n      <th rowspan=\"2\" valign=\"top\">Real Estate</th>\n      <th>Real Estate</th>\n      <td>2.514750</td>\n      <td>33</td>\n      <td>0.091772</td>\n      <td>4.834317e+07</td>\n      <td>2.775602</td>\n      <td>0.179639</td>\n      <td>0.595788</td>\n      <td>0.260547</td>\n      <td>0.025148</td>\n    </tr>\n    <tr>\n      <th>SubTotal-</th>\n      <td>2.514750</td>\n      <td>33</td>\n      <td>0.091772</td>\n      <td>4.834317e+07</td>\n      <td>2.775602</td>\n      <td>0.179639</td>\n      <td>0.595788</td>\n      <td>0.260547</td>\n      <td>0.025148</td>\n    </tr>\n  </tbody>\n</table>\n</div>"
     },
     "metadata": {},
     "output_type": "execute_result",
     "execution_count": 11
    }
   ],
   "source": [
    "df_report"
   ],
   "metadata": {
    "collapsed": false,
    "pycharm": {
     "name": "#%% \n",
     "is_executing": false
    }
   }
  },
  {
   "cell_type": "markdown",
   "source": [
    "\n"
   ],
   "metadata": {
    "collapsed": false,
    "pycharm": {
     "name": "#%% md\n"
    }
   }
  }
 ],
 "metadata": {
  "kernelspec": {
   "display_name": "Python 3",
   "language": "python",
   "name": "python3"
  },
  "language_info": {
   "codemirror_mode": {
    "name": "ipython",
    "version": 2
   },
   "file_extension": ".py",
   "mimetype": "text/x-python",
   "name": "python",
   "nbconvert_exporter": "python",
   "pygments_lexer": "ipython2",
   "version": "2.7.6"
  },
  "pycharm": {
   "stem_cell": {
    "cell_type": "raw",
    "source": [],
    "metadata": {
     "collapsed": false
    }
   }
  }
 },
 "nbformat": 4,
 "nbformat_minor": 0
}